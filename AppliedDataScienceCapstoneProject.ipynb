{
  "nbformat": 4,
  "nbformat_minor": 0,
  "metadata": {
    "colab": {
      "name": "AppliedDataScienceCapstoneProject.ipynb",
      "provenance": [],
      "authorship_tag": "ABX9TyOvWEnxiKtWGIqIb7s7udEJ"
    },
    "kernelspec": {
      "name": "python3",
      "display_name": "Python 3"
    },
    "language_info": {
      "name": "python"
    }
  },
  "cells": [
    {
      "cell_type": "markdown",
      "metadata": {
        "id": "Xi_SNnipcm6s"
      },
      "source": [
        "# Applied Data Science Capstone Project\n",
        "This notebook holds the Applied Data Science Capstone Project from Coursera Data Science Professional Certificate."
      ]
    },
    {
      "cell_type": "markdown",
      "metadata": {
        "id": "xbG3lEEHdeZE"
      },
      "source": [
        "## Project Development"
      ]
    },
    {
      "cell_type": "markdown",
      "metadata": {
        "id": "h_zyUarfdi6U"
      },
      "source": [
        "### Importing Libraries"
      ]
    },
    {
      "cell_type": "code",
      "metadata": {
        "id": "RrU1_5djc9O5"
      },
      "source": [
        "import pandas as pd\n",
        "import numpy as np"
      ],
      "execution_count": 1,
      "outputs": []
    },
    {
      "cell_type": "markdown",
      "metadata": {
        "id": "qYQa7uSddpv9"
      },
      "source": [
        "### Solving the Problem"
      ]
    },
    {
      "cell_type": "code",
      "metadata": {
        "colab": {
          "base_uri": "https://localhost:8080/"
        },
        "id": "iKhrGVetePI5",
        "outputId": "c82ab1dd-ee75-4f5b-83c2-c58dcd6e7a6b"
      },
      "source": [
        "print(\"Hello Capstone Project Course!\")"
      ],
      "execution_count": 3,
      "outputs": [
        {
          "output_type": "stream",
          "text": [
            "Hello Capstone Project Course!\n"
          ],
          "name": "stdout"
        }
      ]
    }
  ]
}